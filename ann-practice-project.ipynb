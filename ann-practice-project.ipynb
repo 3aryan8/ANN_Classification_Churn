{
 "cells": [
  {
   "cell_type": "markdown",
   "metadata": {},
   "source": [
    "# ANN Project Practice\n"
   ]
  },
  {
   "cell_type": "markdown",
   "metadata": {},
   "source": [
    "This is a practice project form Krish Nayak Cource. The objective of this project is to develop a basic and complete understanding of ANN, and also its complete deployment.   \n",
    "\n",
    "The dataset used in this project is Churn Modeling dataset.  \n",
    "It contains the bank details of people, and the objective of this project is to find out, if the person will be withdrawing money from the bank of not. \n",
    "\n",
    "This is a classification problem. "
   ]
  },
  {
   "cell_type": "code",
   "execution_count": 34,
   "metadata": {
    "execution": {
     "iopub.execute_input": "2025-06-14T04:27:33.587924Z",
     "iopub.status.busy": "2025-06-14T04:27:33.587628Z",
     "iopub.status.idle": "2025-06-14T04:27:33.592925Z",
     "shell.execute_reply": "2025-06-14T04:27:33.591739Z",
     "shell.execute_reply.started": "2025-06-14T04:27:33.587904Z"
    },
    "trusted": true
   },
   "outputs": [],
   "source": [
    "from sklearn.model_selection import train_test_split\n",
    "from sklearn.preprocessing import StandardScaler, LabelEncoder\n",
    "import pandas as pd\n",
    "import numpy as np\n",
    "import pickle  "
   ]
  },
  {
   "cell_type": "code",
   "execution_count": null,
   "metadata": {
    "execution": {
     "iopub.execute_input": "2025-06-14T04:27:33.594900Z",
     "iopub.status.busy": "2025-06-14T04:27:33.594587Z",
     "iopub.status.idle": "2025-06-14T04:27:33.632901Z",
     "shell.execute_reply": "2025-06-14T04:27:33.631980Z",
     "shell.execute_reply.started": "2025-06-14T04:27:33.594876Z"
    },
    "trusted": true
   },
   "outputs": [],
   "source": [
    "url = 'ANN_Project/DataSet'\n",
    "dataframe = pd.read_csv(url) "
   ]
  },
  {
   "cell_type": "code",
   "execution_count": 36,
   "metadata": {
    "execution": {
     "iopub.execute_input": "2025-06-14T04:27:33.634643Z",
     "iopub.status.busy": "2025-06-14T04:27:33.634366Z",
     "iopub.status.idle": "2025-06-14T04:27:33.643816Z",
     "shell.execute_reply": "2025-06-14T04:27:33.642686Z",
     "shell.execute_reply.started": "2025-06-14T04:27:33.634618Z"
    },
    "trusted": true
   },
   "outputs": [
    {
     "data": {
      "text/html": [
       "<div>\n",
       "<style scoped>\n",
       "    .dataframe tbody tr th:only-of-type {\n",
       "        vertical-align: middle;\n",
       "    }\n",
       "\n",
       "    .dataframe tbody tr th {\n",
       "        vertical-align: top;\n",
       "    }\n",
       "\n",
       "    .dataframe thead th {\n",
       "        text-align: right;\n",
       "    }\n",
       "</style>\n",
       "<table border=\"1\" class=\"dataframe\">\n",
       "  <thead>\n",
       "    <tr style=\"text-align: right;\">\n",
       "      <th></th>\n",
       "      <th>RowNumber</th>\n",
       "      <th>CustomerId</th>\n",
       "      <th>Surname</th>\n",
       "      <th>CreditScore</th>\n",
       "      <th>Geography</th>\n",
       "      <th>Gender</th>\n",
       "      <th>Age</th>\n",
       "      <th>Tenure</th>\n",
       "      <th>Balance</th>\n",
       "      <th>NumOfProducts</th>\n",
       "      <th>HasCrCard</th>\n",
       "      <th>IsActiveMember</th>\n",
       "      <th>EstimatedSalary</th>\n",
       "      <th>Exited</th>\n",
       "    </tr>\n",
       "  </thead>\n",
       "  <tbody>\n",
       "    <tr>\n",
       "      <th>0</th>\n",
       "      <td>1</td>\n",
       "      <td>15634602</td>\n",
       "      <td>Hargrave</td>\n",
       "      <td>619</td>\n",
       "      <td>France</td>\n",
       "      <td>Female</td>\n",
       "      <td>42</td>\n",
       "      <td>2</td>\n",
       "      <td>0.00</td>\n",
       "      <td>1</td>\n",
       "      <td>1</td>\n",
       "      <td>1</td>\n",
       "      <td>101348.88</td>\n",
       "      <td>1</td>\n",
       "    </tr>\n",
       "    <tr>\n",
       "      <th>1</th>\n",
       "      <td>2</td>\n",
       "      <td>15647311</td>\n",
       "      <td>Hill</td>\n",
       "      <td>608</td>\n",
       "      <td>Spain</td>\n",
       "      <td>Female</td>\n",
       "      <td>41</td>\n",
       "      <td>1</td>\n",
       "      <td>83807.86</td>\n",
       "      <td>1</td>\n",
       "      <td>0</td>\n",
       "      <td>1</td>\n",
       "      <td>112542.58</td>\n",
       "      <td>0</td>\n",
       "    </tr>\n",
       "    <tr>\n",
       "      <th>2</th>\n",
       "      <td>3</td>\n",
       "      <td>15619304</td>\n",
       "      <td>Onio</td>\n",
       "      <td>502</td>\n",
       "      <td>France</td>\n",
       "      <td>Female</td>\n",
       "      <td>42</td>\n",
       "      <td>8</td>\n",
       "      <td>159660.80</td>\n",
       "      <td>3</td>\n",
       "      <td>1</td>\n",
       "      <td>0</td>\n",
       "      <td>113931.57</td>\n",
       "      <td>1</td>\n",
       "    </tr>\n",
       "    <tr>\n",
       "      <th>3</th>\n",
       "      <td>4</td>\n",
       "      <td>15701354</td>\n",
       "      <td>Boni</td>\n",
       "      <td>699</td>\n",
       "      <td>France</td>\n",
       "      <td>Female</td>\n",
       "      <td>39</td>\n",
       "      <td>1</td>\n",
       "      <td>0.00</td>\n",
       "      <td>2</td>\n",
       "      <td>0</td>\n",
       "      <td>0</td>\n",
       "      <td>93826.63</td>\n",
       "      <td>0</td>\n",
       "    </tr>\n",
       "    <tr>\n",
       "      <th>4</th>\n",
       "      <td>5</td>\n",
       "      <td>15737888</td>\n",
       "      <td>Mitchell</td>\n",
       "      <td>850</td>\n",
       "      <td>Spain</td>\n",
       "      <td>Female</td>\n",
       "      <td>43</td>\n",
       "      <td>2</td>\n",
       "      <td>125510.82</td>\n",
       "      <td>1</td>\n",
       "      <td>1</td>\n",
       "      <td>1</td>\n",
       "      <td>79084.10</td>\n",
       "      <td>0</td>\n",
       "    </tr>\n",
       "  </tbody>\n",
       "</table>\n",
       "</div>"
      ],
      "text/plain": [
       "   RowNumber  CustomerId   Surname  CreditScore Geography  Gender  Age  \\\n",
       "0          1    15634602  Hargrave          619    France  Female   42   \n",
       "1          2    15647311      Hill          608     Spain  Female   41   \n",
       "2          3    15619304      Onio          502    France  Female   42   \n",
       "3          4    15701354      Boni          699    France  Female   39   \n",
       "4          5    15737888  Mitchell          850     Spain  Female   43   \n",
       "\n",
       "   Tenure    Balance  NumOfProducts  HasCrCard  IsActiveMember  \\\n",
       "0       2       0.00              1          1               1   \n",
       "1       1   83807.86              1          0               1   \n",
       "2       8  159660.80              3          1               0   \n",
       "3       1       0.00              2          0               0   \n",
       "4       2  125510.82              1          1               1   \n",
       "\n",
       "   EstimatedSalary  Exited  \n",
       "0        101348.88       1  \n",
       "1        112542.58       0  \n",
       "2        113931.57       1  \n",
       "3         93826.63       0  \n",
       "4         79084.10       0  "
      ]
     },
     "execution_count": 36,
     "metadata": {},
     "output_type": "execute_result"
    }
   ],
   "source": [
    "dataframe.head()"
   ]
  },
  {
   "cell_type": "markdown",
   "metadata": {},
   "source": [
    "## Pre Processing Data  \n"
   ]
  },
  {
   "cell_type": "code",
   "execution_count": 4,
   "metadata": {
    "execution": {
     "iopub.execute_input": "2025-06-14T04:27:33.645042Z",
     "iopub.status.busy": "2025-06-14T04:27:33.644793Z",
     "iopub.status.idle": "2025-06-14T04:27:33.650532Z",
     "shell.execute_reply": "2025-06-14T04:27:33.649624Z",
     "shell.execute_reply.started": "2025-06-14T04:27:33.645022Z"
    },
    "trusted": true
   },
   "outputs": [
    {
     "name": "stdout",
     "output_type": "stream",
     "text": [
      "Index(['RowNumber', 'CustomerId', 'Surname', 'CreditScore', 'Geography',\n",
      "       'Gender', 'Age', 'Tenure', 'Balance', 'NumOfProducts', 'HasCrCard',\n",
      "       'IsActiveMember', 'EstimatedSalary', 'Exited'],\n",
      "      dtype='object')\n"
     ]
    }
   ],
   "source": [
    "print(dataframe.columns)\n"
   ]
  },
  {
   "cell_type": "code",
   "execution_count": 37,
   "metadata": {
    "execution": {
     "iopub.execute_input": "2025-06-14T04:27:33.652573Z",
     "iopub.status.busy": "2025-06-14T04:27:33.652317Z",
     "iopub.status.idle": "2025-06-14T04:27:33.658960Z",
     "shell.execute_reply": "2025-06-14T04:27:33.658111Z",
     "shell.execute_reply.started": "2025-06-14T04:27:33.652554Z"
    },
    "trusted": true
   },
   "outputs": [
    {
     "data": {
      "text/html": [
       "<div>\n",
       "<style scoped>\n",
       "    .dataframe tbody tr th:only-of-type {\n",
       "        vertical-align: middle;\n",
       "    }\n",
       "\n",
       "    .dataframe tbody tr th {\n",
       "        vertical-align: top;\n",
       "    }\n",
       "\n",
       "    .dataframe thead th {\n",
       "        text-align: right;\n",
       "    }\n",
       "</style>\n",
       "<table border=\"1\" class=\"dataframe\">\n",
       "  <thead>\n",
       "    <tr style=\"text-align: right;\">\n",
       "      <th></th>\n",
       "      <th>CreditScore</th>\n",
       "      <th>Geography</th>\n",
       "      <th>Gender</th>\n",
       "      <th>Age</th>\n",
       "      <th>Tenure</th>\n",
       "      <th>Balance</th>\n",
       "      <th>NumOfProducts</th>\n",
       "      <th>HasCrCard</th>\n",
       "      <th>IsActiveMember</th>\n",
       "      <th>EstimatedSalary</th>\n",
       "      <th>Exited</th>\n",
       "    </tr>\n",
       "  </thead>\n",
       "  <tbody>\n",
       "    <tr>\n",
       "      <th>0</th>\n",
       "      <td>619</td>\n",
       "      <td>France</td>\n",
       "      <td>Female</td>\n",
       "      <td>42</td>\n",
       "      <td>2</td>\n",
       "      <td>0.00</td>\n",
       "      <td>1</td>\n",
       "      <td>1</td>\n",
       "      <td>1</td>\n",
       "      <td>101348.88</td>\n",
       "      <td>1</td>\n",
       "    </tr>\n",
       "    <tr>\n",
       "      <th>1</th>\n",
       "      <td>608</td>\n",
       "      <td>Spain</td>\n",
       "      <td>Female</td>\n",
       "      <td>41</td>\n",
       "      <td>1</td>\n",
       "      <td>83807.86</td>\n",
       "      <td>1</td>\n",
       "      <td>0</td>\n",
       "      <td>1</td>\n",
       "      <td>112542.58</td>\n",
       "      <td>0</td>\n",
       "    </tr>\n",
       "    <tr>\n",
       "      <th>2</th>\n",
       "      <td>502</td>\n",
       "      <td>France</td>\n",
       "      <td>Female</td>\n",
       "      <td>42</td>\n",
       "      <td>8</td>\n",
       "      <td>159660.80</td>\n",
       "      <td>3</td>\n",
       "      <td>1</td>\n",
       "      <td>0</td>\n",
       "      <td>113931.57</td>\n",
       "      <td>1</td>\n",
       "    </tr>\n",
       "    <tr>\n",
       "      <th>3</th>\n",
       "      <td>699</td>\n",
       "      <td>France</td>\n",
       "      <td>Female</td>\n",
       "      <td>39</td>\n",
       "      <td>1</td>\n",
       "      <td>0.00</td>\n",
       "      <td>2</td>\n",
       "      <td>0</td>\n",
       "      <td>0</td>\n",
       "      <td>93826.63</td>\n",
       "      <td>0</td>\n",
       "    </tr>\n",
       "    <tr>\n",
       "      <th>4</th>\n",
       "      <td>850</td>\n",
       "      <td>Spain</td>\n",
       "      <td>Female</td>\n",
       "      <td>43</td>\n",
       "      <td>2</td>\n",
       "      <td>125510.82</td>\n",
       "      <td>1</td>\n",
       "      <td>1</td>\n",
       "      <td>1</td>\n",
       "      <td>79084.10</td>\n",
       "      <td>0</td>\n",
       "    </tr>\n",
       "    <tr>\n",
       "      <th>...</th>\n",
       "      <td>...</td>\n",
       "      <td>...</td>\n",
       "      <td>...</td>\n",
       "      <td>...</td>\n",
       "      <td>...</td>\n",
       "      <td>...</td>\n",
       "      <td>...</td>\n",
       "      <td>...</td>\n",
       "      <td>...</td>\n",
       "      <td>...</td>\n",
       "      <td>...</td>\n",
       "    </tr>\n",
       "    <tr>\n",
       "      <th>9995</th>\n",
       "      <td>771</td>\n",
       "      <td>France</td>\n",
       "      <td>Male</td>\n",
       "      <td>39</td>\n",
       "      <td>5</td>\n",
       "      <td>0.00</td>\n",
       "      <td>2</td>\n",
       "      <td>1</td>\n",
       "      <td>0</td>\n",
       "      <td>96270.64</td>\n",
       "      <td>0</td>\n",
       "    </tr>\n",
       "    <tr>\n",
       "      <th>9996</th>\n",
       "      <td>516</td>\n",
       "      <td>France</td>\n",
       "      <td>Male</td>\n",
       "      <td>35</td>\n",
       "      <td>10</td>\n",
       "      <td>57369.61</td>\n",
       "      <td>1</td>\n",
       "      <td>1</td>\n",
       "      <td>1</td>\n",
       "      <td>101699.77</td>\n",
       "      <td>0</td>\n",
       "    </tr>\n",
       "    <tr>\n",
       "      <th>9997</th>\n",
       "      <td>709</td>\n",
       "      <td>France</td>\n",
       "      <td>Female</td>\n",
       "      <td>36</td>\n",
       "      <td>7</td>\n",
       "      <td>0.00</td>\n",
       "      <td>1</td>\n",
       "      <td>0</td>\n",
       "      <td>1</td>\n",
       "      <td>42085.58</td>\n",
       "      <td>1</td>\n",
       "    </tr>\n",
       "    <tr>\n",
       "      <th>9998</th>\n",
       "      <td>772</td>\n",
       "      <td>Germany</td>\n",
       "      <td>Male</td>\n",
       "      <td>42</td>\n",
       "      <td>3</td>\n",
       "      <td>75075.31</td>\n",
       "      <td>2</td>\n",
       "      <td>1</td>\n",
       "      <td>0</td>\n",
       "      <td>92888.52</td>\n",
       "      <td>1</td>\n",
       "    </tr>\n",
       "    <tr>\n",
       "      <th>9999</th>\n",
       "      <td>792</td>\n",
       "      <td>France</td>\n",
       "      <td>Female</td>\n",
       "      <td>28</td>\n",
       "      <td>4</td>\n",
       "      <td>130142.79</td>\n",
       "      <td>1</td>\n",
       "      <td>1</td>\n",
       "      <td>0</td>\n",
       "      <td>38190.78</td>\n",
       "      <td>0</td>\n",
       "    </tr>\n",
       "  </tbody>\n",
       "</table>\n",
       "<p>10000 rows × 11 columns</p>\n",
       "</div>"
      ],
      "text/plain": [
       "      CreditScore Geography  Gender  Age  Tenure    Balance  NumOfProducts  \\\n",
       "0             619    France  Female   42       2       0.00              1   \n",
       "1             608     Spain  Female   41       1   83807.86              1   \n",
       "2             502    France  Female   42       8  159660.80              3   \n",
       "3             699    France  Female   39       1       0.00              2   \n",
       "4             850     Spain  Female   43       2  125510.82              1   \n",
       "...           ...       ...     ...  ...     ...        ...            ...   \n",
       "9995          771    France    Male   39       5       0.00              2   \n",
       "9996          516    France    Male   35      10   57369.61              1   \n",
       "9997          709    France  Female   36       7       0.00              1   \n",
       "9998          772   Germany    Male   42       3   75075.31              2   \n",
       "9999          792    France  Female   28       4  130142.79              1   \n",
       "\n",
       "      HasCrCard  IsActiveMember  EstimatedSalary  Exited  \n",
       "0             1               1        101348.88       1  \n",
       "1             0               1        112542.58       0  \n",
       "2             1               0        113931.57       1  \n",
       "3             0               0         93826.63       0  \n",
       "4             1               1         79084.10       0  \n",
       "...         ...             ...              ...     ...  \n",
       "9995          1               0         96270.64       0  \n",
       "9996          1               1        101699.77       0  \n",
       "9997          0               1         42085.58       1  \n",
       "9998          1               0         92888.52       1  \n",
       "9999          1               0         38190.78       0  \n",
       "\n",
       "[10000 rows x 11 columns]"
      ]
     },
     "execution_count": 37,
     "metadata": {},
     "output_type": "execute_result"
    }
   ],
   "source": [
    "# Removing the values which are not needed\n",
    "## RowNumber , CustomerID , Surname\n",
    "\n",
    "dataframe = dataframe.drop(['CustomerId' , 'Surname', \"RowNumber\"], axis=1)\n",
    "dataframe"
   ]
  },
  {
   "cell_type": "code",
   "execution_count": 38,
   "metadata": {
    "execution": {
     "iopub.execute_input": "2025-06-14T04:27:33.660126Z",
     "iopub.status.busy": "2025-06-14T04:27:33.659878Z",
     "iopub.status.idle": "2025-06-14T04:27:33.672471Z",
     "shell.execute_reply": "2025-06-14T04:27:33.671098Z",
     "shell.execute_reply.started": "2025-06-14T04:27:33.660105Z"
    },
    "trusted": true
   },
   "outputs": [
    {
     "data": {
      "text/html": [
       "<div>\n",
       "<style scoped>\n",
       "    .dataframe tbody tr th:only-of-type {\n",
       "        vertical-align: middle;\n",
       "    }\n",
       "\n",
       "    .dataframe tbody tr th {\n",
       "        vertical-align: top;\n",
       "    }\n",
       "\n",
       "    .dataframe thead th {\n",
       "        text-align: right;\n",
       "    }\n",
       "</style>\n",
       "<table border=\"1\" class=\"dataframe\">\n",
       "  <thead>\n",
       "    <tr style=\"text-align: right;\">\n",
       "      <th></th>\n",
       "      <th>CreditScore</th>\n",
       "      <th>Geography</th>\n",
       "      <th>Gender</th>\n",
       "      <th>Age</th>\n",
       "      <th>Tenure</th>\n",
       "      <th>Balance</th>\n",
       "      <th>NumOfProducts</th>\n",
       "      <th>HasCrCard</th>\n",
       "      <th>IsActiveMember</th>\n",
       "      <th>EstimatedSalary</th>\n",
       "      <th>Exited</th>\n",
       "    </tr>\n",
       "  </thead>\n",
       "  <tbody>\n",
       "    <tr>\n",
       "      <th>0</th>\n",
       "      <td>619</td>\n",
       "      <td>France</td>\n",
       "      <td>0</td>\n",
       "      <td>42</td>\n",
       "      <td>2</td>\n",
       "      <td>0.00</td>\n",
       "      <td>1</td>\n",
       "      <td>1</td>\n",
       "      <td>1</td>\n",
       "      <td>101348.88</td>\n",
       "      <td>1</td>\n",
       "    </tr>\n",
       "    <tr>\n",
       "      <th>1</th>\n",
       "      <td>608</td>\n",
       "      <td>Spain</td>\n",
       "      <td>0</td>\n",
       "      <td>41</td>\n",
       "      <td>1</td>\n",
       "      <td>83807.86</td>\n",
       "      <td>1</td>\n",
       "      <td>0</td>\n",
       "      <td>1</td>\n",
       "      <td>112542.58</td>\n",
       "      <td>0</td>\n",
       "    </tr>\n",
       "    <tr>\n",
       "      <th>2</th>\n",
       "      <td>502</td>\n",
       "      <td>France</td>\n",
       "      <td>0</td>\n",
       "      <td>42</td>\n",
       "      <td>8</td>\n",
       "      <td>159660.80</td>\n",
       "      <td>3</td>\n",
       "      <td>1</td>\n",
       "      <td>0</td>\n",
       "      <td>113931.57</td>\n",
       "      <td>1</td>\n",
       "    </tr>\n",
       "    <tr>\n",
       "      <th>3</th>\n",
       "      <td>699</td>\n",
       "      <td>France</td>\n",
       "      <td>0</td>\n",
       "      <td>39</td>\n",
       "      <td>1</td>\n",
       "      <td>0.00</td>\n",
       "      <td>2</td>\n",
       "      <td>0</td>\n",
       "      <td>0</td>\n",
       "      <td>93826.63</td>\n",
       "      <td>0</td>\n",
       "    </tr>\n",
       "    <tr>\n",
       "      <th>4</th>\n",
       "      <td>850</td>\n",
       "      <td>Spain</td>\n",
       "      <td>0</td>\n",
       "      <td>43</td>\n",
       "      <td>2</td>\n",
       "      <td>125510.82</td>\n",
       "      <td>1</td>\n",
       "      <td>1</td>\n",
       "      <td>1</td>\n",
       "      <td>79084.10</td>\n",
       "      <td>0</td>\n",
       "    </tr>\n",
       "  </tbody>\n",
       "</table>\n",
       "</div>"
      ],
      "text/plain": [
       "   CreditScore Geography  Gender  Age  Tenure    Balance  NumOfProducts  \\\n",
       "0          619    France       0   42       2       0.00              1   \n",
       "1          608     Spain       0   41       1   83807.86              1   \n",
       "2          502    France       0   42       8  159660.80              3   \n",
       "3          699    France       0   39       1       0.00              2   \n",
       "4          850     Spain       0   43       2  125510.82              1   \n",
       "\n",
       "   HasCrCard  IsActiveMember  EstimatedSalary  Exited  \n",
       "0          1               1        101348.88       1  \n",
       "1          0               1        112542.58       0  \n",
       "2          1               0        113931.57       1  \n",
       "3          0               0         93826.63       0  \n",
       "4          1               1         79084.10       0  "
      ]
     },
     "execution_count": 38,
     "metadata": {},
     "output_type": "execute_result"
    }
   ],
   "source": [
    "# Applying Encoding to Catagorical Variable. \n",
    "label_encoder_gender = LabelEncoder()\n",
    "dataframe['Gender'] = label_encoder_gender.fit_transform(dataframe['Gender'])\n",
    "dataframe.head()"
   ]
  },
  {
   "cell_type": "code",
   "execution_count": 53,
   "metadata": {
    "execution": {
     "iopub.execute_input": "2025-06-14T04:27:33.681832Z",
     "iopub.status.busy": "2025-06-14T04:27:33.681537Z",
     "iopub.status.idle": "2025-06-14T04:27:33.699189Z",
     "shell.execute_reply": "2025-06-14T04:27:33.698213Z",
     "shell.execute_reply.started": "2025-06-14T04:27:33.681813Z"
    },
    "trusted": true
   },
   "outputs": [
    {
     "name": "stdout",
     "output_type": "stream",
     "text": [
      "Encoded Feature Names:\n",
      " ['Geography_France' 'Geography_Germany' 'Geography_Spain']\n",
      "oh_encoder_geo Categories\n",
      "\t [array(['France', 'Germany', 'Spain'], dtype=object)]\n",
      "\n",
      "\n",
      "New Encoded DataFrame:\n",
      "       Geography_France  Geography_Germany  Geography_Spain\n",
      "0                  1.0                0.0              0.0\n",
      "1                  0.0                0.0              1.0\n",
      "2                  1.0                0.0              0.0\n",
      "3                  1.0                0.0              0.0\n",
      "4                  0.0                0.0              1.0\n",
      "...                ...                ...              ...\n",
      "9995               1.0                0.0              0.0\n",
      "9996               1.0                0.0              0.0\n",
      "9997               1.0                0.0              0.0\n",
      "9998               0.0                1.0              0.0\n",
      "9999               1.0                0.0              0.0\n",
      "\n",
      "[10000 rows x 3 columns]\n"
     ]
    }
   ],
   "source": [
    "# We won't use label encoding for 'Geography' because it's a nominal (non-ordinal) categorical feature.\n",
    "# Label encoding would assign numerical values that might incorrectly imply an order or ranking.\n",
    "# Instead, we'll use one-hot encoding to represent each category as a separate binary column.\n",
    "\n",
    "from sklearn.preprocessing import OneHotEncoder\n",
    "\n",
    "# Instantiate the one-hot encoder\n",
    "oh_encoder_geo = OneHotEncoder()\n",
    "\n",
    "# Apply one-hot encoding to the 'Geography' column.\n",
    "# This returns a sparse matrix with binary values.\n",
    "geo_encoder = oh_encoder_geo.fit_transform(dataframe[[\"Geography\"]])\n",
    "\n",
    "# Convert the sparse matrix to a dense NumPy array so it can be used in a DataFrame\n",
    "geo_encoder = geo_encoder.toarray()\n",
    "\n",
    "# Display the new feature names created by one-hot encoding\n",
    "print('Encoded Feature Names:\\n',\n",
    "      oh_encoder_geo.get_feature_names_out([\"Geography\"]))\n",
    "print('oh_encoder_geo Categories\\n\\t' , oh_encoder_geo.categories_)\n",
    "\n",
    "\n",
    "# Create a new DataFrame from the encoded array with proper column names\n",
    "geo_encoded_df = pd.DataFrame(geo_encoder, columns=oh_encoder_geo.get_feature_names_out(['Geography']))\n",
    "\n",
    "# Display the new DataFrame with encoded geography features\n",
    "print(\"\\n\\nNew Encoded DataFrame:\\n\", geo_encoded_df)\n"
   ]
  },
  {
   "cell_type": "code",
   "execution_count": 8,
   "metadata": {
    "execution": {
     "iopub.execute_input": "2025-06-14T04:27:33.741102Z",
     "iopub.status.busy": "2025-06-14T04:27:33.739726Z",
     "iopub.status.idle": "2025-06-14T04:27:33.749113Z",
     "shell.execute_reply": "2025-06-14T04:27:33.748140Z",
     "shell.execute_reply.started": "2025-06-14T04:27:33.741033Z"
    },
    "trusted": true
   },
   "outputs": [
    {
     "name": "stdout",
     "output_type": "stream",
     "text": [
      "Index(['CreditScore', 'Geography', 'Gender', 'Age', 'Tenure', 'Balance',\n",
      "       'NumOfProducts', 'HasCrCard', 'IsActiveMember', 'EstimatedSalary',\n",
      "       'Exited'],\n",
      "      dtype='object')\n"
     ]
    }
   ],
   "source": [
    "#combinng all the columns with the original dataframe\n",
    "\n",
    "## concatinating all the features\n",
    "print(dataframe.columns)\n",
    "dataframe = pd.concat([dataframe.drop('Geography',axis=1),geo_encoded_df], axis=1)"
   ]
  },
  {
   "cell_type": "code",
   "execution_count": 9,
   "metadata": {
    "execution": {
     "iopub.execute_input": "2025-06-14T04:27:33.751380Z",
     "iopub.status.busy": "2025-06-14T04:27:33.750911Z",
     "iopub.status.idle": "2025-06-14T04:27:33.760929Z",
     "shell.execute_reply": "2025-06-14T04:27:33.759762Z",
     "shell.execute_reply.started": "2025-06-14T04:27:33.751345Z"
    },
    "trusted": true
   },
   "outputs": [
    {
     "name": "stdout",
     "output_type": "stream",
     "text": [
      "   CreditScore  Gender  Age  Tenure    Balance  NumOfProducts  HasCrCard  \\\n",
      "0          619       0   42       2       0.00              1          1   \n",
      "1          608       0   41       1   83807.86              1          0   \n",
      "2          502       0   42       8  159660.80              3          1   \n",
      "3          699       0   39       1       0.00              2          0   \n",
      "4          850       0   43       2  125510.82              1          1   \n",
      "\n",
      "   IsActiveMember  EstimatedSalary  Exited  Geography_France  \\\n",
      "0               1        101348.88       1               1.0   \n",
      "1               1        112542.58       0               0.0   \n",
      "2               0        113931.57       1               1.0   \n",
      "3               0         93826.63       0               1.0   \n",
      "4               1         79084.10       0               0.0   \n",
      "\n",
      "   Geography_Germany  Geography_Spain  \n",
      "0                0.0              0.0  \n",
      "1                0.0              1.0  \n",
      "2                0.0              0.0  \n",
      "3                0.0              0.0  \n",
      "4                0.0              1.0  \n"
     ]
    }
   ],
   "source": [
    "\n",
    "print(dataframe.head())"
   ]
  },
  {
   "cell_type": "markdown",
   "metadata": {
    "execution": {
     "iopub.execute_input": "2025-06-13T06:31:10.896196Z",
     "iopub.status.busy": "2025-06-13T06:31:10.895836Z",
     "iopub.status.idle": "2025-06-13T06:31:10.901082Z",
     "shell.execute_reply": "2025-06-13T06:31:10.900207Z",
     "shell.execute_reply.started": "2025-06-13T06:31:10.896171Z"
    }
   },
   "source": [
    "Saving the encoder and scaler.  \n",
    "Commenting out the encoding, so that multiple pikle files are not created"
   ]
  },
  {
   "cell_type": "code",
   "execution_count": 10,
   "metadata": {
    "execution": {
     "iopub.execute_input": "2025-06-14T04:27:33.762255Z",
     "iopub.status.busy": "2025-06-14T04:27:33.761967Z",
     "iopub.status.idle": "2025-06-14T04:27:33.766452Z",
     "shell.execute_reply": "2025-06-14T04:27:33.765410Z",
     "shell.execute_reply.started": "2025-06-14T04:27:33.762235Z"
    },
    "trusted": true
   },
   "outputs": [],
   "source": [
    "with open ('label_encoder_gender.pkl' , 'wb') as file:\n",
    "    pickle.dump(label_encoder_gender, file)\n",
    "\n",
    "with open ('geo_encoder_oneHot.pkl','wb') as file:\n",
    "    pickle.dump(oh_encoder_geo,file)"
   ]
  },
  {
   "cell_type": "code",
   "execution_count": 11,
   "metadata": {
    "execution": {
     "iopub.execute_input": "2025-06-14T04:27:33.767627Z",
     "iopub.status.busy": "2025-06-14T04:27:33.767310Z",
     "iopub.status.idle": "2025-06-14T04:27:33.801753Z",
     "shell.execute_reply": "2025-06-14T04:27:33.800762Z",
     "shell.execute_reply.started": "2025-06-14T04:27:33.767598Z"
    },
    "trusted": true
   },
   "outputs": [],
   "source": [
    "## Deviding the dataset into dependent and inipendent features\n",
    "\n",
    "X = dataframe.drop(['Exited'], axis= 1)\n",
    "y = dataframe['Exited']\n",
    "\n",
    "scaler = StandardScaler()\n",
    "\n",
    "## spliting the data into train test and split\n",
    "X_train, X_test , y_train, y_test = train_test_split(X,y, test_size= 0.2 , random_state=42)\n",
    "\n",
    "##Scaling the features, using standard scaler\n",
    "X_train = scaler.fit_transform(X_train)\n",
    "X_test = scaler.transform(X_test)\n",
    "\n",
    "###### NOTE  #######\n",
    "\n",
    "# Do not scale before spliting, because then model will have seen some information\n",
    "        # about the test data also, which it should not have. \n",
    "# Apply fit transform to train, and only transform to test, as in real life also \n",
    "        # model should apply the mean and standard dev of train data only, \n",
    "        # as only that is available. "
   ]
  },
  {
   "cell_type": "markdown",
   "metadata": {},
   "source": [
    "Again commenting out the code to avoid multiple creations of the file. "
   ]
  },
  {
   "cell_type": "code",
   "execution_count": 12,
   "metadata": {
    "execution": {
     "iopub.execute_input": "2025-06-14T04:27:33.804320Z",
     "iopub.status.busy": "2025-06-14T04:27:33.803939Z",
     "iopub.status.idle": "2025-06-14T04:27:33.809142Z",
     "shell.execute_reply": "2025-06-14T04:27:33.807904Z",
     "shell.execute_reply.started": "2025-06-14T04:27:33.804289Z"
    },
    "trusted": true
   },
   "outputs": [],
   "source": [
    "# saving the scalar file also, in form of pkl format. \n",
    "## We are saving all the tools which we will be needing in deployment of application. \n",
    "### that is why we have saved the encoder, onehot encoder, and now the scaler, \n",
    "### so that it can also scale in real life data. \n",
    "### also now scaler has learned to scale the data from x_train. \n",
    "\n",
    "\n",
    "\n",
    "with open ('StandardScaler.pkl' , 'wb') as file:\n",
    "    pickle.dump(scaler, file)\n"
   ]
  },
  {
   "cell_type": "markdown",
   "metadata": {},
   "source": [
    "## Training of ANN"
   ]
  },
  {
   "cell_type": "code",
   "execution_count": 13,
   "metadata": {
    "execution": {
     "iopub.execute_input": "2025-06-14T04:27:33.810422Z",
     "iopub.status.busy": "2025-06-14T04:27:33.810172Z",
     "iopub.status.idle": "2025-06-14T04:27:33.815607Z",
     "shell.execute_reply": "2025-06-14T04:27:33.814631Z",
     "shell.execute_reply.started": "2025-06-14T04:27:33.810403Z"
    },
    "trusted": true
   },
   "outputs": [
    {
     "name": "stderr",
     "output_type": "stream",
     "text": [
      "2025-06-14 14:30:18.984298: I tensorflow/core/util/port.cc:153] oneDNN custom operations are on. You may see slightly different numerical results due to floating-point round-off errors from different computation orders. To turn them off, set the environment variable `TF_ENABLE_ONEDNN_OPTS=0`.\n",
      "2025-06-14 14:30:18.984889: I external/local_xla/xla/tsl/cuda/cudart_stub.cc:32] Could not find cuda drivers on your machine, GPU will not be used.\n",
      "2025-06-14 14:30:18.987612: I external/local_xla/xla/tsl/cuda/cudart_stub.cc:32] Could not find cuda drivers on your machine, GPU will not be used.\n",
      "2025-06-14 14:30:18.994068: E external/local_xla/xla/stream_executor/cuda/cuda_fft.cc:467] Unable to register cuFFT factory: Attempting to register factory for plugin cuFFT when one has already been registered\n",
      "WARNING: All log messages before absl::InitializeLog() is called are written to STDERR\n",
      "E0000 00:00:1749891619.006029   26698 cuda_dnn.cc:8579] Unable to register cuDNN factory: Attempting to register factory for plugin cuDNN when one has already been registered\n",
      "E0000 00:00:1749891619.009364   26698 cuda_blas.cc:1407] Unable to register cuBLAS factory: Attempting to register factory for plugin cuBLAS when one has already been registered\n",
      "W0000 00:00:1749891619.018508   26698 computation_placer.cc:177] computation placer already registered. Please check linkage and avoid linking the same target more than once.\n",
      "W0000 00:00:1749891619.018535   26698 computation_placer.cc:177] computation placer already registered. Please check linkage and avoid linking the same target more than once.\n",
      "W0000 00:00:1749891619.018536   26698 computation_placer.cc:177] computation placer already registered. Please check linkage and avoid linking the same target more than once.\n",
      "W0000 00:00:1749891619.018537   26698 computation_placer.cc:177] computation placer already registered. Please check linkage and avoid linking the same target more than once.\n",
      "2025-06-14 14:30:19.021554: I tensorflow/core/platform/cpu_feature_guard.cc:210] This TensorFlow binary is optimized to use available CPU instructions in performance-critical operations.\n",
      "To enable the following instructions: AVX2 AVX_VNNI FMA, in other operations, rebuild TensorFlow with the appropriate compiler flags.\n"
     ]
    }
   ],
   "source": [
    "import tensorflow as tf\n",
    "import datetime\n",
    "\n",
    "## tensorflow calles ANN as a sequential network \n",
    "from tensorflow.keras.models import Sequential\n",
    "from tensorflow.keras.layers import Dense\n",
    "from tensorflow.keras.callbacks import EarlyStopping , TensorBoard\n",
    "\n",
    "## Steps for Training an ANN using  Tensorflow\n",
    "# 1. Model = Sequential \n",
    "# 2. Layer = Dense : When ever we need a fully connected layer, we use a Dense layer\n",
    "# 3. Activation Function\n",
    "# 4. Optimizer : for backpropagation\n",
    "# 5. Loss Function \n",
    "# 6. Evalutaion Metrics : Accuracy , MSE \n",
    "# 7. Visualization = TensorBoard : Storing Computation logs for visualization \n"
   ]
  },
  {
   "cell_type": "code",
   "execution_count": 14,
   "metadata": {
    "execution": {
     "iopub.execute_input": "2025-06-14T04:27:33.817114Z",
     "iopub.status.busy": "2025-06-14T04:27:33.816790Z",
     "iopub.status.idle": "2025-06-14T04:27:33.823515Z",
     "shell.execute_reply": "2025-06-14T04:27:33.822504Z",
     "shell.execute_reply.started": "2025-06-14T04:27:33.817088Z"
    },
    "trusted": true
   },
   "outputs": [
    {
     "data": {
      "text/plain": [
       "(8000, 12)"
      ]
     },
     "execution_count": 14,
     "metadata": {},
     "output_type": "execute_result"
    }
   ],
   "source": [
    "X_train.shape \n",
    "\n",
    "# X_train.shape[1] is different from X_train[1].shape\n",
    "# array.shape ➞ (100, 10, 3)\n",
    "# shape[0] = number of rows        100\n",
    "# shape[1] = number of columns     10\n",
    "# shape[n] = nth index of shape    3"
   ]
  },
  {
   "cell_type": "code",
   "execution_count": 15,
   "metadata": {
    "execution": {
     "iopub.execute_input": "2025-06-14T04:27:33.825094Z",
     "iopub.status.busy": "2025-06-14T04:27:33.824725Z",
     "iopub.status.idle": "2025-06-14T04:27:33.831902Z",
     "shell.execute_reply": "2025-06-14T04:27:33.830755Z",
     "shell.execute_reply.started": "2025-06-14T04:27:33.825042Z"
    },
    "trusted": true
   },
   "outputs": [
    {
     "name": "stdout",
     "output_type": "stream",
     "text": [
      "(12,) type :  <class 'tuple'>\n",
      "(12,) type :  <class 'int'>\n"
     ]
    }
   ],
   "source": [
    "## Demonstration \n",
    "\n",
    "print(X_train[1].shape, \"type : \" , type(X_train[1].shape))\n",
    "print((X_train.shape[1],) , \"type : \" , type(X_train.shape[1],))"
   ]
  },
  {
   "cell_type": "code",
   "execution_count": 16,
   "metadata": {
    "execution": {
     "iopub.execute_input": "2025-06-14T04:27:33.833697Z",
     "iopub.status.busy": "2025-06-14T04:27:33.833362Z",
     "iopub.status.idle": "2025-06-14T04:27:33.862976Z",
     "shell.execute_reply": "2025-06-14T04:27:33.861997Z",
     "shell.execute_reply.started": "2025-06-14T04:27:33.833666Z"
    },
    "trusted": true
   },
   "outputs": [
    {
     "name": "stderr",
     "output_type": "stream",
     "text": [
      "/media/escanor/extra/programing/python/Krish Nayak/venv/lib/python3.10/site-packages/keras/src/layers/core/dense.py:93: UserWarning: Do not pass an `input_shape`/`input_dim` argument to a layer. When using Sequential models, prefer using an `Input(shape)` object as the first layer in the model instead.\n",
      "  super().__init__(activity_regularizer=activity_regularizer, **kwargs)\n",
      "2025-06-14 14:30:27.712625: E external/local_xla/xla/stream_executor/cuda/cuda_platform.cc:51] failed call to cuInit: INTERNAL: CUDA error: Failed call to cuInit: UNKNOWN ERROR (303)\n"
     ]
    }
   ],
   "source": [
    "## Building ANN Model\n",
    "model= Sequential ([\n",
    "    Dense(64 , activation = 'relu' , input_shape=X_train[1].shape), # HL1 Connected to input layer\n",
    "        # input_needs to be something of higher dimension, so ,) is used, \n",
    "        # ALTERNATIVE : X_train[1].shape will also work\n",
    "    Dense(32 , activation = \"relu\"),# HL2 \n",
    "        # Input shape only once. \n",
    "    Dense(1, activation = \"sigmoid\") # Output Layer\n",
    "    ])"
   ]
  },
  {
   "cell_type": "code",
   "execution_count": 17,
   "metadata": {
    "execution": {
     "iopub.execute_input": "2025-06-14T04:27:33.864216Z",
     "iopub.status.busy": "2025-06-14T04:27:33.863909Z",
     "iopub.status.idle": "2025-06-14T04:27:33.880770Z",
     "shell.execute_reply": "2025-06-14T04:27:33.879876Z",
     "shell.execute_reply.started": "2025-06-14T04:27:33.864195Z"
    },
    "trusted": true
   },
   "outputs": [
    {
     "data": {
      "text/html": [
       "<pre style=\"white-space:pre;overflow-x:auto;line-height:normal;font-family:Menlo,'DejaVu Sans Mono',consolas,'Courier New',monospace\"><span style=\"font-weight: bold\">Model: \"sequential\"</span>\n",
       "</pre>\n"
      ],
      "text/plain": [
       "\u001b[1mModel: \"sequential\"\u001b[0m\n"
      ]
     },
     "metadata": {},
     "output_type": "display_data"
    },
    {
     "data": {
      "text/html": [
       "<pre style=\"white-space:pre;overflow-x:auto;line-height:normal;font-family:Menlo,'DejaVu Sans Mono',consolas,'Courier New',monospace\">┏━━━━━━━━━━━━━━━━━━━━━━━━━━━━━━━━━┳━━━━━━━━━━━━━━━━━━━━━━━━┳━━━━━━━━━━━━━━━┓\n",
       "┃<span style=\"font-weight: bold\"> Layer (type)                    </span>┃<span style=\"font-weight: bold\"> Output Shape           </span>┃<span style=\"font-weight: bold\">       Param # </span>┃\n",
       "┡━━━━━━━━━━━━━━━━━━━━━━━━━━━━━━━━━╇━━━━━━━━━━━━━━━━━━━━━━━━╇━━━━━━━━━━━━━━━┩\n",
       "│ dense (<span style=\"color: #0087ff; text-decoration-color: #0087ff\">Dense</span>)                   │ (<span style=\"color: #00d7ff; text-decoration-color: #00d7ff\">None</span>, <span style=\"color: #00af00; text-decoration-color: #00af00\">64</span>)             │           <span style=\"color: #00af00; text-decoration-color: #00af00\">832</span> │\n",
       "├─────────────────────────────────┼────────────────────────┼───────────────┤\n",
       "│ dense_1 (<span style=\"color: #0087ff; text-decoration-color: #0087ff\">Dense</span>)                 │ (<span style=\"color: #00d7ff; text-decoration-color: #00d7ff\">None</span>, <span style=\"color: #00af00; text-decoration-color: #00af00\">32</span>)             │         <span style=\"color: #00af00; text-decoration-color: #00af00\">2,080</span> │\n",
       "├─────────────────────────────────┼────────────────────────┼───────────────┤\n",
       "│ dense_2 (<span style=\"color: #0087ff; text-decoration-color: #0087ff\">Dense</span>)                 │ (<span style=\"color: #00d7ff; text-decoration-color: #00d7ff\">None</span>, <span style=\"color: #00af00; text-decoration-color: #00af00\">1</span>)              │            <span style=\"color: #00af00; text-decoration-color: #00af00\">33</span> │\n",
       "└─────────────────────────────────┴────────────────────────┴───────────────┘\n",
       "</pre>\n"
      ],
      "text/plain": [
       "┏━━━━━━━━━━━━━━━━━━━━━━━━━━━━━━━━━┳━━━━━━━━━━━━━━━━━━━━━━━━┳━━━━━━━━━━━━━━━┓\n",
       "┃\u001b[1m \u001b[0m\u001b[1mLayer (type)                   \u001b[0m\u001b[1m \u001b[0m┃\u001b[1m \u001b[0m\u001b[1mOutput Shape          \u001b[0m\u001b[1m \u001b[0m┃\u001b[1m \u001b[0m\u001b[1m      Param #\u001b[0m\u001b[1m \u001b[0m┃\n",
       "┡━━━━━━━━━━━━━━━━━━━━━━━━━━━━━━━━━╇━━━━━━━━━━━━━━━━━━━━━━━━╇━━━━━━━━━━━━━━━┩\n",
       "│ dense (\u001b[38;5;33mDense\u001b[0m)                   │ (\u001b[38;5;45mNone\u001b[0m, \u001b[38;5;34m64\u001b[0m)             │           \u001b[38;5;34m832\u001b[0m │\n",
       "├─────────────────────────────────┼────────────────────────┼───────────────┤\n",
       "│ dense_1 (\u001b[38;5;33mDense\u001b[0m)                 │ (\u001b[38;5;45mNone\u001b[0m, \u001b[38;5;34m32\u001b[0m)             │         \u001b[38;5;34m2,080\u001b[0m │\n",
       "├─────────────────────────────────┼────────────────────────┼───────────────┤\n",
       "│ dense_2 (\u001b[38;5;33mDense\u001b[0m)                 │ (\u001b[38;5;45mNone\u001b[0m, \u001b[38;5;34m1\u001b[0m)              │            \u001b[38;5;34m33\u001b[0m │\n",
       "└─────────────────────────────────┴────────────────────────┴───────────────┘\n"
      ]
     },
     "metadata": {},
     "output_type": "display_data"
    },
    {
     "data": {
      "text/html": [
       "<pre style=\"white-space:pre;overflow-x:auto;line-height:normal;font-family:Menlo,'DejaVu Sans Mono',consolas,'Courier New',monospace\"><span style=\"font-weight: bold\"> Total params: </span><span style=\"color: #00af00; text-decoration-color: #00af00\">2,945</span> (11.50 KB)\n",
       "</pre>\n"
      ],
      "text/plain": [
       "\u001b[1m Total params: \u001b[0m\u001b[38;5;34m2,945\u001b[0m (11.50 KB)\n"
      ]
     },
     "metadata": {},
     "output_type": "display_data"
    },
    {
     "data": {
      "text/html": [
       "<pre style=\"white-space:pre;overflow-x:auto;line-height:normal;font-family:Menlo,'DejaVu Sans Mono',consolas,'Courier New',monospace\"><span style=\"font-weight: bold\"> Trainable params: </span><span style=\"color: #00af00; text-decoration-color: #00af00\">2,945</span> (11.50 KB)\n",
       "</pre>\n"
      ],
      "text/plain": [
       "\u001b[1m Trainable params: \u001b[0m\u001b[38;5;34m2,945\u001b[0m (11.50 KB)\n"
      ]
     },
     "metadata": {},
     "output_type": "display_data"
    },
    {
     "data": {
      "text/html": [
       "<pre style=\"white-space:pre;overflow-x:auto;line-height:normal;font-family:Menlo,'DejaVu Sans Mono',consolas,'Courier New',monospace\"><span style=\"font-weight: bold\"> Non-trainable params: </span><span style=\"color: #00af00; text-decoration-color: #00af00\">0</span> (0.00 B)\n",
       "</pre>\n"
      ],
      "text/plain": [
       "\u001b[1m Non-trainable params: \u001b[0m\u001b[38;5;34m0\u001b[0m (0.00 B)\n"
      ]
     },
     "metadata": {},
     "output_type": "display_data"
    }
   ],
   "source": [
    "model.summary()"
   ]
  },
  {
   "cell_type": "code",
   "execution_count": 18,
   "metadata": {
    "execution": {
     "iopub.execute_input": "2025-06-14T04:27:33.883488Z",
     "iopub.status.busy": "2025-06-14T04:27:33.883239Z",
     "iopub.status.idle": "2025-06-14T04:27:33.895838Z",
     "shell.execute_reply": "2025-06-14T04:27:33.894785Z",
     "shell.execute_reply.started": "2025-06-14T04:27:33.883469Z"
    },
    "trusted": true
   },
   "outputs": [],
   "source": [
    "# compiling the model \n",
    "\n",
    "# we can also create a lot of optimizers\n",
    "opt = tf.keras.optimizers.Adam(learning_rate= 0.01)\n",
    "        # We can directly optimizer= 'adam' below, or create an object like above,\n",
    "            # if we want to set the learning rate ourself\n",
    "loss = tf.keras.losses.BinaryCrossentropy()\n",
    "model.compile ( optimizer= 'adam' , loss=\"binary_crossentropy\" , metrics= ['accuracy'])"
   ]
  },
  {
   "cell_type": "code",
   "execution_count": 19,
   "metadata": {
    "execution": {
     "iopub.execute_input": "2025-06-14T04:27:33.897316Z",
     "iopub.status.busy": "2025-06-14T04:27:33.896914Z",
     "iopub.status.idle": "2025-06-14T04:27:33.901891Z",
     "shell.execute_reply": "2025-06-14T04:27:33.901085Z",
     "shell.execute_reply.started": "2025-06-14T04:27:33.897289Z"
    },
    "trusted": true
   },
   "outputs": [],
   "source": [
    "# Setting up the tensor board before training the mode. \n",
    "log_dir = 'logs/fit/' + datetime.datetime.now().strftime(\"%d %m %Y - %H %M %S\")\n",
    "\n",
    "tensorflow_callback = TensorBoard(log_dir , histogram_freq = 1)"
   ]
  },
  {
   "cell_type": "code",
   "execution_count": 20,
   "metadata": {
    "execution": {
     "iopub.execute_input": "2025-06-14T04:27:33.903489Z",
     "iopub.status.busy": "2025-06-14T04:27:33.903183Z",
     "iopub.status.idle": "2025-06-14T04:27:33.907531Z",
     "shell.execute_reply": "2025-06-14T04:27:33.906629Z",
     "shell.execute_reply.started": "2025-06-14T04:27:33.903463Z"
    },
    "trusted": true
   },
   "outputs": [],
   "source": [
    "## SettingUp Early Stopping  \n",
    "early_stopping_callback = EarlyStopping(monitor = 'val_loss', patience = 5 , restore_best_weights = True) "
   ]
  },
  {
   "cell_type": "code",
   "execution_count": 21,
   "metadata": {
    "execution": {
     "iopub.execute_input": "2025-06-14T04:27:33.908687Z",
     "iopub.status.busy": "2025-06-14T04:27:33.908439Z",
     "iopub.status.idle": "2025-06-14T04:27:48.927369Z",
     "shell.execute_reply": "2025-06-14T04:27:48.926587Z",
     "shell.execute_reply.started": "2025-06-14T04:27:33.908669Z"
    },
    "trusted": true
   },
   "outputs": [
    {
     "name": "stdout",
     "output_type": "stream",
     "text": [
      "Epoch 1/100\n",
      "\u001b[1m250/250\u001b[0m \u001b[32m━━━━━━━━━━━━━━━━━━━━\u001b[0m\u001b[37m\u001b[0m \u001b[1m1s\u001b[0m 3ms/step - accuracy: 0.7299 - loss: 0.5350 - val_accuracy: 0.8340 - val_loss: 0.3896\n",
      "Epoch 2/100\n",
      "\u001b[1m250/250\u001b[0m \u001b[32m━━━━━━━━━━━━━━━━━━━━\u001b[0m\u001b[37m\u001b[0m \u001b[1m1s\u001b[0m 2ms/step - accuracy: 0.8375 - loss: 0.3864 - val_accuracy: 0.8530 - val_loss: 0.3556\n",
      "Epoch 3/100\n",
      "\u001b[1m250/250\u001b[0m \u001b[32m━━━━━━━━━━━━━━━━━━━━\u001b[0m\u001b[37m\u001b[0m \u001b[1m0s\u001b[0m 2ms/step - accuracy: 0.8514 - loss: 0.3605 - val_accuracy: 0.8565 - val_loss: 0.3426\n",
      "Epoch 4/100\n",
      "\u001b[1m250/250\u001b[0m \u001b[32m━━━━━━━━━━━━━━━━━━━━\u001b[0m\u001b[37m\u001b[0m \u001b[1m0s\u001b[0m 1ms/step - accuracy: 0.8607 - loss: 0.3404 - val_accuracy: 0.8565 - val_loss: 0.3476\n",
      "Epoch 5/100\n",
      "\u001b[1m250/250\u001b[0m \u001b[32m━━━━━━━━━━━━━━━━━━━━\u001b[0m\u001b[37m\u001b[0m \u001b[1m0s\u001b[0m 2ms/step - accuracy: 0.8572 - loss: 0.3402 - val_accuracy: 0.8570 - val_loss: 0.3412\n",
      "Epoch 6/100\n",
      "\u001b[1m250/250\u001b[0m \u001b[32m━━━━━━━━━━━━━━━━━━━━\u001b[0m\u001b[37m\u001b[0m \u001b[1m0s\u001b[0m 2ms/step - accuracy: 0.8713 - loss: 0.3214 - val_accuracy: 0.8630 - val_loss: 0.3415\n",
      "Epoch 7/100\n",
      "\u001b[1m250/250\u001b[0m \u001b[32m━━━━━━━━━━━━━━━━━━━━\u001b[0m\u001b[37m\u001b[0m \u001b[1m0s\u001b[0m 2ms/step - accuracy: 0.8739 - loss: 0.3155 - val_accuracy: 0.8615 - val_loss: 0.3389\n",
      "Epoch 8/100\n",
      "\u001b[1m250/250\u001b[0m \u001b[32m━━━━━━━━━━━━━━━━━━━━\u001b[0m\u001b[37m\u001b[0m \u001b[1m0s\u001b[0m 1ms/step - accuracy: 0.8639 - loss: 0.3316 - val_accuracy: 0.8590 - val_loss: 0.3413\n",
      "Epoch 9/100\n",
      "\u001b[1m250/250\u001b[0m \u001b[32m━━━━━━━━━━━━━━━━━━━━\u001b[0m\u001b[37m\u001b[0m \u001b[1m0s\u001b[0m 2ms/step - accuracy: 0.8681 - loss: 0.3223 - val_accuracy: 0.8610 - val_loss: 0.3387\n",
      "Epoch 10/100\n",
      "\u001b[1m250/250\u001b[0m \u001b[32m━━━━━━━━━━━━━━━━━━━━\u001b[0m\u001b[37m\u001b[0m \u001b[1m0s\u001b[0m 1ms/step - accuracy: 0.8632 - loss: 0.3248 - val_accuracy: 0.8600 - val_loss: 0.3392\n",
      "Epoch 11/100\n",
      "\u001b[1m250/250\u001b[0m \u001b[32m━━━━━━━━━━━━━━━━━━━━\u001b[0m\u001b[37m\u001b[0m \u001b[1m0s\u001b[0m 2ms/step - accuracy: 0.8688 - loss: 0.3208 - val_accuracy: 0.8615 - val_loss: 0.3388\n",
      "Epoch 12/100\n",
      "\u001b[1m250/250\u001b[0m \u001b[32m━━━━━━━━━━━━━━━━━━━━\u001b[0m\u001b[37m\u001b[0m \u001b[1m0s\u001b[0m 2ms/step - accuracy: 0.8696 - loss: 0.3248 - val_accuracy: 0.8620 - val_loss: 0.3387\n",
      "Epoch 13/100\n",
      "\u001b[1m250/250\u001b[0m \u001b[32m━━━━━━━━━━━━━━━━━━━━\u001b[0m\u001b[37m\u001b[0m \u001b[1m1s\u001b[0m 2ms/step - accuracy: 0.8734 - loss: 0.3108 - val_accuracy: 0.8625 - val_loss: 0.3407\n",
      "Epoch 14/100\n",
      "\u001b[1m250/250\u001b[0m \u001b[32m━━━━━━━━━━━━━━━━━━━━\u001b[0m\u001b[37m\u001b[0m \u001b[1m0s\u001b[0m 2ms/step - accuracy: 0.8677 - loss: 0.3174 - val_accuracy: 0.8620 - val_loss: 0.3395\n"
     ]
    }
   ],
   "source": [
    "## Finally Training The Model. \n",
    "\n",
    "history = model.fit(\n",
    "    X_train, y_train, validation_data = (X_test,y_test),epochs = 100,\n",
    "    callbacks = [tensorflow_callback , early_stopping_callback]\n",
    ")"
   ]
  },
  {
   "cell_type": "markdown",
   "metadata": {},
   "source": [
    "Saving Model.  \n",
    "\n",
    "Commenting out again to prevent multiple creation. "
   ]
  },
  {
   "cell_type": "code",
   "execution_count": 24,
   "metadata": {
    "execution": {
     "iopub.execute_input": "2025-06-14T04:27:48.928806Z",
     "iopub.status.busy": "2025-06-14T04:27:48.928570Z",
     "iopub.status.idle": "2025-06-14T04:27:48.953568Z",
     "shell.execute_reply": "2025-06-14T04:27:48.952655Z",
     "shell.execute_reply.started": "2025-06-14T04:27:48.928788Z"
    },
    "trusted": true
   },
   "outputs": [
    {
     "name": "stderr",
     "output_type": "stream",
     "text": [
      "WARNING:absl:You are saving your model as an HDF5 file via `model.save()` or `keras.saving.save_model(model)`. This file format is considered legacy. We recommend using instead the native Keras format, e.g. `model.save('my_model.keras')` or `keras.saving.save_model(model, 'my_model.keras')`. \n"
     ]
    }
   ],
   "source": [
    "model.save('model.h5')\n",
    "\n",
    "\n",
    "## Storing the model in h5 file, \n",
    "# h5 file is better for storing complex models like neural networks"
   ]
  },
  {
   "cell_type": "code",
   "execution_count": 25,
   "metadata": {
    "execution": {
     "iopub.execute_input": "2025-06-14T04:27:48.954803Z",
     "iopub.status.busy": "2025-06-14T04:27:48.954533Z",
     "iopub.status.idle": "2025-06-14T04:27:48.971519Z",
     "shell.execute_reply": "2025-06-14T04:27:48.970801Z",
     "shell.execute_reply.started": "2025-06-14T04:27:48.954777Z"
    },
    "trusted": true
   },
   "outputs": [],
   "source": [
    "# Loading TensorBoard extension\n",
    "%load_ext tensorboard "
   ]
  },
  {
   "cell_type": "code",
   "execution_count": 27,
   "metadata": {
    "execution": {
     "iopub.execute_input": "2025-06-14T04:27:48.972575Z",
     "iopub.status.busy": "2025-06-14T04:27:48.972278Z",
     "iopub.status.idle": "2025-06-14T04:27:57.508034Z",
     "shell.execute_reply": "2025-06-14T04:27:57.506983Z",
     "shell.execute_reply.started": "2025-06-14T04:27:48.972550Z"
    },
    "trusted": true
   },
   "outputs": [
    {
     "data": {
      "text/plain": [
       "Reusing TensorBoard on port 6006 (pid 28556), started 0:00:16 ago. (Use '!kill 28556' to kill it.)"
      ]
     },
     "metadata": {},
     "output_type": "display_data"
    },
    {
     "data": {
      "text/html": [
       "\n",
       "      <iframe id=\"tensorboard-frame-5fb444f03b494511\" width=\"100%\" height=\"800\" frameborder=\"0\">\n",
       "      </iframe>\n",
       "      <script>\n",
       "        (function() {\n",
       "          const frame = document.getElementById(\"tensorboard-frame-5fb444f03b494511\");\n",
       "          const url = new URL(\"http://localhost\");\n",
       "          const port = 6006;\n",
       "          if (port) {\n",
       "            url.port = port;\n",
       "          }\n",
       "          frame.src = url;\n",
       "        })();\n",
       "      </script>\n",
       "    "
      ],
      "text/plain": [
       "<IPython.core.display.HTML object>"
      ]
     },
     "metadata": {},
     "output_type": "display_data"
    }
   ],
   "source": [
    "%tensorboard --logdir logs/fit"
   ]
  },
  {
   "cell_type": "markdown",
   "metadata": {},
   "source": [
    "## Predicting With trained Model"
   ]
  },
  {
   "cell_type": "code",
   "execution_count": 28,
   "metadata": {
    "execution": {
     "iopub.execute_input": "2025-06-14T04:27:57.510039Z",
     "iopub.status.busy": "2025-06-14T04:27:57.509586Z",
     "iopub.status.idle": "2025-06-14T04:27:57.555389Z",
     "shell.execute_reply": "2025-06-14T04:27:57.554350Z",
     "shell.execute_reply.started": "2025-06-14T04:27:57.510008Z"
    },
    "trusted": true
   },
   "outputs": [
    {
     "name": "stderr",
     "output_type": "stream",
     "text": [
      "WARNING:absl:Compiled the loaded model, but the compiled metrics have yet to be built. `model.compile_metrics` will be empty until you train or evaluate the model.\n"
     ]
    }
   ],
   "source": [
    "from tensorflow.keras.models import load_model\n",
    "\n",
    "model = load_model(\"model.h5\")\n",
    "\n",
    "## loading the encoders and scaler \n",
    "\n",
    "with open ('StandardScaler.pkl' ,'rb') as file:\n",
    "    standard_scaler = pickle.load(file)\n",
    "\n",
    "with open ('geo_encoder_oneHot.pkl' ,'rb') as file:\n",
    "    geo_oh_encoder= pickle.load(file)\n",
    "\n",
    "with open ('label_encoder_gender.pkl' ,'rb') as file:\n",
    "    gen_lb_encoder = pickle.load(file)"
   ]
  },
  {
   "cell_type": "code",
   "execution_count": 29,
   "metadata": {
    "execution": {
     "iopub.execute_input": "2025-06-14T04:27:57.556680Z",
     "iopub.status.busy": "2025-06-14T04:27:57.556420Z",
     "iopub.status.idle": "2025-06-14T04:27:57.561471Z",
     "shell.execute_reply": "2025-06-14T04:27:57.560538Z",
     "shell.execute_reply.started": "2025-06-14T04:27:57.556661Z"
    },
    "trusted": true
   },
   "outputs": [],
   "source": [
    "# Example of input data \n",
    "sample_data = {\n",
    "    'CreditScore': 720,\n",
    "    'Geography': 'France',\n",
    "    'Gender': 'Male',\n",
    "    'Age': 35,\n",
    "    'Tenure': 5,\n",
    "    'Balance': 150000.00,\n",
    "    'NumOfProducts': 2,\n",
    "    'HasCrCard': 1,\n",
    "    'IsActiveMember': 1,\n",
    "    'EstimatedSalary': 85000.00\n",
    "}\n"
   ]
  },
  {
   "cell_type": "code",
   "execution_count": 30,
   "metadata": {
    "execution": {
     "iopub.execute_input": "2025-06-14T04:27:57.563554Z",
     "iopub.status.busy": "2025-06-14T04:27:57.562800Z",
     "iopub.status.idle": "2025-06-14T04:27:57.581624Z",
     "shell.execute_reply": "2025-06-14T04:27:57.580558Z",
     "shell.execute_reply.started": "2025-06-14T04:27:57.563524Z"
    },
    "trusted": true
   },
   "outputs": [
    {
     "name": "stdout",
     "output_type": "stream",
     "text": [
      "   CreditScore  Gender  Age  Tenure   Balance  NumOfProducts  HasCrCard  \\\n",
      "0          720       1   35       5  150000.0              2          1   \n",
      "\n",
      "   IsActiveMember  EstimatedSalary  Geography_France  Geography_Germany  \\\n",
      "0               1          85000.0               1.0                0.0   \n",
      "\n",
      "   Geography_Spain  \n",
      "0              0.0  \n",
      "[[ 0.70934256  0.91324755 -0.37056859 -0.00134472  1.18317786  0.80843615\n",
      "   0.64920267  0.97481699 -0.26829875  1.00150113 -0.57946723 -0.57638802]]\n"
     ]
    },
    {
     "name": "stderr",
     "output_type": "stream",
     "text": [
      "/media/escanor/extra/programing/python/Krish Nayak/venv/lib/python3.10/site-packages/sklearn/utils/validation.py:2739: UserWarning: X does not have valid feature names, but OneHotEncoder was fitted with feature names\n",
      "  warnings.warn(\n"
     ]
    }
   ],
   "source": [
    "# Now we will treat this input as the input given to us by user, \n",
    "# We will perform all the operations on this dictionary , which we intend to perfrom \n",
    "        # on out actual data.\n",
    "\n",
    "data = pd.DataFrame([sample_data])\n",
    "\n",
    "# Changing catagorical to numerical\n",
    "data['Gender'] = gen_lb_encoder.transform(data[\"Gender\"])\n",
    "\n",
    "# Using One Hot Encoding on Data\n",
    "oh_encoded_geo = geo_oh_encoder.transform([data['Geography']]).toarray()\n",
    "\n",
    "# Creating Dataframe\n",
    "dataframe = pd.DataFrame(oh_encoded_geo , columns=geo_oh_encoder.get_feature_names_out())\n",
    "\n",
    "# Concatinating Data\n",
    "data = pd.concat([data.drop('Geography', axis=1),dataframe], axis=1)\n",
    "print(data.head())\n",
    "X_input = standard_scaler.transform(data)\n",
    "\n",
    "print(X_input)"
   ]
  },
  {
   "cell_type": "code",
   "execution_count": 31,
   "metadata": {
    "execution": {
     "iopub.execute_input": "2025-06-14T04:27:57.583379Z",
     "iopub.status.busy": "2025-06-14T04:27:57.583000Z",
     "iopub.status.idle": "2025-06-14T04:27:57.733621Z",
     "shell.execute_reply": "2025-06-14T04:27:57.732779Z",
     "shell.execute_reply.started": "2025-06-14T04:27:57.583349Z"
    },
    "trusted": true
   },
   "outputs": [
    {
     "name": "stdout",
     "output_type": "stream",
     "text": [
      "\u001b[1m1/1\u001b[0m \u001b[32m━━━━━━━━━━━━━━━━━━━━\u001b[0m\u001b[37m\u001b[0m \u001b[1m0s\u001b[0m 40ms/step\n"
     ]
    },
    {
     "data": {
      "text/plain": [
       "array([[0.05405016]], dtype=float32)"
      ]
     },
     "execution_count": 31,
     "metadata": {},
     "output_type": "execute_result"
    }
   ],
   "source": [
    "## Predicting using the model\n",
    "\n",
    "prediction = model.predict(X_input)\n",
    "prediction"
   ]
  },
  {
   "cell_type": "code",
   "execution_count": 32,
   "metadata": {
    "execution": {
     "iopub.execute_input": "2025-06-14T04:27:57.735223Z",
     "iopub.status.busy": "2025-06-14T04:27:57.734960Z",
     "iopub.status.idle": "2025-06-14T04:27:57.740208Z",
     "shell.execute_reply": "2025-06-14T04:27:57.739118Z",
     "shell.execute_reply.started": "2025-06-14T04:27:57.735204Z"
    },
    "trusted": true
   },
   "outputs": [
    {
     "name": "stdout",
     "output_type": "stream",
     "text": [
      "No The Person Will Not Leave The Bank\n"
     ]
    }
   ],
   "source": [
    "if prediction >=0.5 :\n",
    "    print(\"Yes Person Will Leave The Bank\")\n",
    "else :\n",
    "    print(\"No The Person Will Not Leave The Bank\")"
   ]
  }
 ],
 "metadata": {
  "kaggle": {
   "accelerator": "none",
   "dataSources": [
    {
     "datasetId": 156197,
     "isSourceIdPinned": false,
     "sourceId": 358170,
     "sourceType": "datasetVersion"
    }
   ],
   "dockerImageVersionId": 31040,
   "isGpuEnabled": false,
   "isInternetEnabled": true,
   "language": "python",
   "sourceType": "notebook"
  },
  "kernelspec": {
   "display_name": "Python 3",
   "language": "python",
   "name": "python3"
  },
  "language_info": {
   "codemirror_mode": {
    "name": "ipython",
    "version": 3
   },
   "file_extension": ".py",
   "mimetype": "text/x-python",
   "name": "python",
   "nbconvert_exporter": "python",
   "pygments_lexer": "ipython3",
   "version": "3.10.0"
  }
 },
 "nbformat": 4,
 "nbformat_minor": 4
}
